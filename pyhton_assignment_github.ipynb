{
  "nbformat": 4,
  "nbformat_minor": 0,
  "metadata": {
    "colab": {
      "name": "pyhton assignment github",
      "provenance": [],
      "authorship_tag": "ABX9TyOAOyv61wbjLzvKE9hkt5bq",
      "include_colab_link": true
    },
    "kernelspec": {
      "name": "python3",
      "display_name": "Python 3"
    },
    "language_info": {
      "name": "python"
    }
  },
  "cells": [
    {
      "cell_type": "markdown",
      "metadata": {
        "id": "view-in-github",
        "colab_type": "text"
      },
      "source": [
        "<a href=\"https://colab.research.google.com/github/anil-aslan/Assignment-008-8-Leap-Years-/blob/main/pyhton_assignment_github.ipynb\" target=\"_parent\"><img src=\"https://colab.research.google.com/assets/colab-badge.svg\" alt=\"Open In Colab\"/></a>"
      ]
    },
    {
      "cell_type": "code",
      "metadata": {
        "id": "6cQRaAcxux0h",
        "colab": {
          "base_uri": "https://localhost:8080/"
        },
        "outputId": "b940fb07-ad92-4792-94f1-d11e9fb5433b"
      },
      "source": [
        "year = int(input(\"Enter a year: \"))\n",
        "\n",
        "\n",
        "if year%400 == 0 :\n",
        "    print(year, \"is a leap year\")\n",
        "elif (year%4 == 0) and (year%100 != 0) :\n",
        "    print(year, \"is a leap year\")\n",
        "else :\n",
        "    print(year, \"is not a leap year\")"
      ],
      "execution_count": 1,
      "outputs": [
        {
          "output_type": "stream",
          "text": [
            "Enter a year: 2040\n",
            "2040 is a leap year\n"
          ],
          "name": "stdout"
        }
      ]
    },
    {
      "cell_type": "code",
      "metadata": {
        "id": "FNkRdh5Su4Hf",
        "colab": {
          "base_uri": "https://localhost:8080/"
        },
        "outputId": "53380d06-f882-4031-b67a-f3da1e08bf97"
      },
      "source": [
        "\n",
        "\n",
        "\n"
      ],
      "execution_count": null,
      "outputs": [
        {
          "output_type": "execute_result",
          "data": {
            "text/plain": [
              "[2]"
            ]
          },
          "metadata": {
            "tags": []
          },
          "execution_count": 19
        }
      ]
    }
  ]
}